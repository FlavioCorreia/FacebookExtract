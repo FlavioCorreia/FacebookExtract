{
 "cells": [
  {
   "cell_type": "markdown",
   "metadata": {},
   "source": [
    "## https://github.com/kevinzg/facebook-scraper"
   ]
  },
  {
   "cell_type": "code",
   "execution_count": 1,
   "metadata": {},
   "outputs": [],
   "source": [
    "from facebook_scraper import get_posts"
   ]
  },
  {
   "cell_type": "code",
   "execution_count": 6,
   "metadata": {},
   "outputs": [
    {
     "name": "stdout",
     "output_type": "stream",
     "text": [
      "Aprendendo a jogar LoL\n",
      "A serenidade do homem que 5 anos atrás subia no palco perante 12000 pessoas pra jogar de Lulu mid 🤪\n",
      "Aprendendo a jogar LoL\n",
      "Aprendendo a jogar LoL\n",
      "Eu e a @cadeiradokami tirada no meio da live\n",
      "\n",
      "\n",
      "Best friend for life ❤️\n",
      "Roi, tô um pouco azul de novo. E claramente não sei mais fazer cara de proplayer pra foto 😔\n",
      "\n"
     ]
    }
   ],
   "source": [
    "for post in get_posts('pKamiKat', pages=3):\n",
    "    print(post['text'])"
   ]
  },
  {
   "cell_type": "code",
   "execution_count": 10,
   "metadata": {},
   "outputs": [
    {
     "name": "stdout",
     "output_type": "stream",
     "text": [
      "Aprendendo a jogar LoL\n",
      "A serenidade do homem que 5 anos atrás subia no palco perante 12000 pessoas pra jogar de Lulu mid 🤪\n",
      "Aprendendo a jogar LoL\n",
      "Aprendendo a jogar LoL\n"
     ]
    }
   ],
   "source": [
    "iteracao=1\n",
    "for post in get_posts('pKamiKat'):\n",
    "    print(post['text'])\n",
    "    \n",
    "    iteracao -= -1\n",
    "    if iteracao > 4:\n",
    "        break"
   ]
  },
  {
   "cell_type": "code",
   "execution_count": 7,
   "metadata": {},
   "outputs": [
    {
     "name": "stdout",
     "output_type": "stream",
     "text": [
      "{'post_id': '646438796259169', 'text': 'Aprendendo a jogar LoL', 'post_text': 'Aprendendo a jogar LoL', 'shared_text': '', 'time': datetime.datetime(2020, 10, 15, 19, 7, 12), 'image': None, 'video': 'https://scontent.ffor1-3.fna.fbcdn.net/v/t66.36281-6/10000000_379593373194438_8865725939671544684_n.mp4?_nc_cat=107&_nc_sid=985c63&efg=eyJ2ZW5jb2RlX3RhZyI6Im9lcF9zZCJ9&_nc_ohc=05ObTM6WwsYAX-7Ocl-&_nc_ht=scontent.ffor1-3.fna&oh=d8ab86d60ede64ac5ce9088b252442b4&oe=5FAF7448', 'video_thumbnail': None, 'video_id': '646438796259169', 'likes': 1741, 'comments': 4996, 'shares': 47, 'post_url': 'https://facebook.com/watch?v=646438796259169', 'link': None, 'user_id': '289579904475528', 'images': []}\n",
      "{'post_id': '2992079474225544', 'text': 'A serenidade do homem que 5 anos atrás subia no palco perante 12000 pessoas pra jogar de Lulu mid 🤪', 'post_text': 'A serenidade do homem que 5 anos atrás subia no palco perante 12000 pessoas pra jogar de Lulu mid 🤪', 'shared_text': '', 'time': datetime.datetime(2020, 10, 14, 16, 53, 10), 'image': 'https://scontent.ffor1-3.fna.fbcdn.net/v/t1.0-9/fr/cp0/e15/q65/121412425_2992079477558877_3139548947326851430_o.jpg?_nc_cat=107&_nc_sid=2d5d41&_nc_ohc=LsIq4tvLkygAX9i-RZE&_nc_ht=scontent.ffor1-3.fna&tp=14&oh=b56875a93acdf9955355eb0ce0571224&oe=5FB052EC', 'video': None, 'video_thumbnail': None, 'video_id': None, 'likes': 10184, 'comments': 356, 'shares': 0, 'post_url': None, 'link': None, 'user_id': '289579904475528', 'images': ['https://scontent.ffor1-3.fna.fbcdn.net/v/t1.0-9/fr/cp0/e15/q65/121412425_2992079477558877_3139548947326851430_o.jpg?_nc_cat=107&_nc_sid=2d5d41&_nc_ohc=LsIq4tvLkygAX9i-RZE&_nc_ht=scontent.ffor1-3.fna&tp=14&oh=b56875a93acdf9955355eb0ce0571224&oe=5FB052EC', 'https://scontent.ffor1-3.fna.fbcdn.net/v/t1.0-9/fr/cp0/e15/q65/121412425_2992079477558877_3139548947326851430_o.jpg?_nc_cat=107&_nc_sid=2d5d41&_nc_ohc=LsIq4tvLkygAX9i-RZE&_nc_ht=scontent.ffor1-3.fna&tp=14&oh=b56875a93acdf9955355eb0ce0571224&oe=5FB052EC', 'https://scontent.ffor1-3.fna.fbcdn.net/v/t1.0-9/fr/cp0/e15/q65/121412425_2992079477558877_3139548947326851430_o.jpg?_nc_cat=107&_nc_sid=2d5d41&_nc_ohc=LsIq4tvLkygAX9i-RZE&_nc_ht=scontent.ffor1-3.fna&tp=14&oh=b56875a93acdf9955355eb0ce0571224&oe=5FB052EC']}\n",
      "{'post_id': '377742416686528', 'text': 'Aprendendo a jogar LoL', 'post_text': 'Aprendendo a jogar LoL', 'shared_text': '', 'time': datetime.datetime(2020, 10, 14, 15, 7, 49), 'image': None, 'video': 'https://video.ffor1-3.fna.fbcdn.net/v/t42.1790-29/10000000_354616529314878_5983801513338168950_n.mp4?_nc_cat=100&_nc_sid=985c63&efg=eyJ2ZW5jb2RlX3RhZyI6InNkIn0%3D&_nc_ohc=gxGZ4WF6osgAX-rvCpw&_nc_ht=video.ffor1-3.fna&oh=628d3666b8e2c76c51bb0a240757e476&oe=5F89EE26', 'video_thumbnail': None, 'video_id': '377742416686528', 'likes': 2843, 'comments': 6050, 'shares': 68, 'post_url': 'https://facebook.com/watch?v=377742416686528', 'link': None, 'user_id': '289579904475528', 'images': []}\n",
      "{'post_id': '344031986904373', 'text': 'Aprendendo a jogar LoL', 'post_text': 'Aprendendo a jogar LoL', 'shared_text': '', 'time': datetime.datetime(2020, 10, 13, 15, 30, 31), 'image': None, 'video': 'https://video.ffor1-3.fna.fbcdn.net/v/t42.1790-29/10000000_442716693358261_3487341482180191681_n.mp4?_nc_cat=107&_nc_sid=985c63&efg=eyJ2ZW5jb2RlX3RhZyI6InNkIn0%3D&_nc_ohc=W-P54er0mDYAX8CFIzG&_nc_ht=video.ffor1-3.fna&oh=9acee912fcef8c1ca148a32ae0ca4812&oe=5F89EC20', 'video_thumbnail': None, 'video_id': '344031986904373', 'likes': 2877, 'comments': 8449, 'shares': 213, 'post_url': 'https://facebook.com/watch?v=344031986904373', 'link': None, 'user_id': '289579904475528', 'images': []}\n",
      "{'post_id': '2985948264838665', 'text': 'Eu e a @cadeiradokami tirada no meio da live', 'post_text': 'Eu e a @cadeiradokami tirada no meio da live', 'shared_text': '', 'time': datetime.datetime(2020, 10, 12, 14, 24, 21), 'image': 'https://scontent.ffor1-3.fna.fbcdn.net/v/t1.0-9/fr/cp0/e15/q65/121104293_2985948271505331_8806009377944611451_o.jpg?_nc_cat=108&_nc_sid=2d5d41&_nc_ohc=YxRzYXAmCWUAX_uLeFk&_nc_ht=scontent.ffor1-3.fna&tp=14&oh=56d8ea67b60683a277b45732a81eef36&oe=5FAFAC4B', 'video': None, 'video_thumbnail': None, 'video_id': None, 'likes': 5422, 'comments': 247, 'shares': 0, 'post_url': None, 'link': None, 'user_id': '289579904475528', 'images': ['https://scontent.ffor1-3.fna.fbcdn.net/v/t1.0-9/fr/cp0/e15/q65/121104293_2985948271505331_8806009377944611451_o.jpg?_nc_cat=108&_nc_sid=2d5d41&_nc_ohc=YxRzYXAmCWUAX_uLeFk&_nc_ht=scontent.ffor1-3.fna&tp=14&oh=56d8ea67b60683a277b45732a81eef36&oe=5FAFAC4B', 'https://scontent.ffor1-3.fna.fbcdn.net/v/t1.0-9/fr/cp0/e15/q65/121104293_2985948271505331_8806009377944611451_o.jpg?_nc_cat=108&_nc_sid=2d5d41&_nc_ohc=YxRzYXAmCWUAX_uLeFk&_nc_ht=scontent.ffor1-3.fna&tp=14&oh=56d8ea67b60683a277b45732a81eef36&oe=5FAFAC4B', 'https://scontent.ffor1-3.fna.fbcdn.net/v/t1.0-9/fr/cp0/e15/q65/121104293_2985948271505331_8806009377944611451_o.jpg?_nc_cat=108&_nc_sid=2d5d41&_nc_ohc=YxRzYXAmCWUAX_uLeFk&_nc_ht=scontent.ffor1-3.fna&tp=14&oh=56d8ea67b60683a277b45732a81eef36&oe=5FAFAC4B']}\n",
      "{'post_id': '635347053816102', 'text': '', 'post_text': '', 'shared_text': '', 'time': datetime.datetime(2020, 10, 12, 12, 36, 2), 'image': None, 'video': 'https://video.ffor1-3.fna.fbcdn.net/v/t42.1790-29/10000000_344174543502350_2570175981631493315_n.mp4?_nc_cat=110&_nc_sid=985c63&efg=eyJ2ZW5jb2RlX3RhZyI6InNkIn0%3D&_nc_ohc=3CRhl_IiM14AX-yY39w&_nc_ht=video.ffor1-3.fna&oh=f94f937dfc240d0cface0807bb760cdf&oe=5F89ED24', 'video_thumbnail': None, 'video_id': '635347053816102', 'likes': 3659, 'comments': 10905, 'shares': 87, 'post_url': 'https://facebook.com/watch?v=635347053816102', 'link': None, 'user_id': '289579904475528', 'images': []}\n",
      "{'post_id': '619187588750375', 'text': '', 'post_text': '', 'shared_text': '', 'time': datetime.datetime(2020, 10, 11, 10, 35, 8), 'image': None, 'video': 'https://video.ffor1-3.fna.fbcdn.net/v/t42.1790-29/10000000_176022577441754_460257406633639282_n.mp4?_nc_cat=100&_nc_sid=985c63&efg=eyJ2ZW5jb2RlX3RhZyI6InNkIn0%3D&_nc_ohc=EsHaMCiTPVAAX_wbzES&_nc_ht=video.ffor1-3.fna&oh=d7b67cb706388f5e31f65fc6812ca609&oe=5F89EA83', 'video_thumbnail': None, 'video_id': '619187588750375', 'likes': 2991, 'comments': 7439, 'shares': 86, 'post_url': 'https://facebook.com/watch?v=619187588750375', 'link': None, 'user_id': '289579904475528', 'images': []}\n",
      "{'post_id': '2980152738751551', 'text': 'Best friend for life ❤️', 'post_text': 'Best friend for life ❤️', 'shared_text': '', 'time': datetime.datetime(2020, 10, 10, 17, 4, 16), 'image': 'https://scontent.ffor1-3.fna.fbcdn.net/v/t1.0-9/fr/cp0/e15/q65/121230287_2980152745418217_1601868877146253492_o.jpg?_nc_cat=107&_nc_sid=2d5d41&_nc_ohc=NT72Ed9meykAX_OlyNU&_nc_ht=scontent.ffor1-3.fna&tp=14&oh=7c316c3ce1c363077326a6d8ca4888f6&oe=5FADA1E1', 'video': None, 'video_thumbnail': None, 'video_id': None, 'likes': 11913, 'comments': 179, 'shares': 0, 'post_url': None, 'link': None, 'user_id': '289579904475528', 'images': ['https://scontent.ffor1-3.fna.fbcdn.net/v/t1.0-9/fr/cp0/e15/q65/121230287_2980152745418217_1601868877146253492_o.jpg?_nc_cat=107&_nc_sid=2d5d41&_nc_ohc=NT72Ed9meykAX_OlyNU&_nc_ht=scontent.ffor1-3.fna&tp=14&oh=7c316c3ce1c363077326a6d8ca4888f6&oe=5FADA1E1', 'https://scontent.ffor1-3.fna.fbcdn.net/v/t1.0-9/fr/cp0/e15/q65/121230287_2980152745418217_1601868877146253492_o.jpg?_nc_cat=107&_nc_sid=2d5d41&_nc_ohc=NT72Ed9meykAX_OlyNU&_nc_ht=scontent.ffor1-3.fna&tp=14&oh=7c316c3ce1c363077326a6d8ca4888f6&oe=5FADA1E1', 'https://scontent.ffor1-3.fna.fbcdn.net/v/t1.0-9/fr/cp0/e15/q65/121230287_2980152745418217_1601868877146253492_o.jpg?_nc_cat=107&_nc_sid=2d5d41&_nc_ohc=NT72Ed9meykAX_OlyNU&_nc_ht=scontent.ffor1-3.fna&tp=14&oh=7c316c3ce1c363077326a6d8ca4888f6&oe=5FADA1E1']}\n",
      "{'post_id': '2977326639034161', 'text': 'Roi, tô um pouco azul de novo. E claramente não sei mais fazer cara de proplayer pra foto 😔', 'post_text': 'Roi, tô um pouco azul de novo. E claramente não sei mais fazer cara de proplayer pra foto 😔', 'shared_text': '', 'time': datetime.datetime(2020, 10, 9, 19, 17, 33), 'image': 'https://scontent.ffor1-3.fna.fbcdn.net/v/t1.0-9/fr/cp0/e15/q65/120910892_2977326642367494_8763294334551002116_o.jpg?_nc_cat=111&_nc_sid=2d5d41&_nc_ohc=yyIYkSrFoSIAX_L_5w1&_nc_oc=AQlIOQQ9A5xpj_E3ny09RIVVdGePPl_dhbqeRl2CIR_6hTH-OcxBq5QubGx-JOHuN4E&_nc_ht=scontent.ffor1-3.fna&tp=14&oh=5c8692c8d9972cd13ea5a8cadad8bcf8&oe=5FAFCA28', 'video': None, 'video_thumbnail': None, 'video_id': None, 'likes': 16376, 'comments': 1135, 'shares': 0, 'post_url': None, 'link': None, 'user_id': '289579904475528', 'images': ['https://scontent.ffor1-3.fna.fbcdn.net/v/t1.0-9/fr/cp0/e15/q65/120910892_2977326642367494_8763294334551002116_o.jpg?_nc_cat=111&_nc_sid=2d5d41&_nc_ohc=yyIYkSrFoSIAX_L_5w1&_nc_oc=AQlIOQQ9A5xpj_E3ny09RIVVdGePPl_dhbqeRl2CIR_6hTH-OcxBq5QubGx-JOHuN4E&_nc_ht=scontent.ffor1-3.fna&tp=14&oh=5c8692c8d9972cd13ea5a8cadad8bcf8&oe=5FAFCA28', 'https://scontent.ffor1-3.fna.fbcdn.net/v/t1.0-9/fr/cp0/e15/q65/120910892_2977326642367494_8763294334551002116_o.jpg?_nc_cat=111&_nc_sid=2d5d41&_nc_ohc=yyIYkSrFoSIAX_L_5w1&_nc_oc=AQlIOQQ9A5xpj_E3ny09RIVVdGePPl_dhbqeRl2CIR_6hTH-OcxBq5QubGx-JOHuN4E&_nc_ht=scontent.ffor1-3.fna&tp=14&oh=5c8692c8d9972cd13ea5a8cadad8bcf8&oe=5FAFCA28', 'https://scontent.ffor1-3.fna.fbcdn.net/v/t1.0-9/fr/cp0/e15/q65/120910892_2977326642367494_8763294334551002116_o.jpg?_nc_cat=111&_nc_sid=2d5d41&_nc_ohc=yyIYkSrFoSIAX_L_5w1&_nc_oc=AQlIOQQ9A5xpj_E3ny09RIVVdGePPl_dhbqeRl2CIR_6hTH-OcxBq5QubGx-JOHuN4E&_nc_ht=scontent.ffor1-3.fna&tp=14&oh=5c8692c8d9972cd13ea5a8cadad8bcf8&oe=5FAFCA28']}\n",
      "{'post_id': '765751257540024', 'text': '', 'post_text': '', 'shared_text': '', 'time': datetime.datetime(2020, 10, 8, 11, 46, 40), 'image': None, 'video': 'https://scontent.ffor1-3.fna.fbcdn.net/v/t66.36281-6/10000000_204729037679362_2111014963601166349_n.mp4?_nc_cat=107&_nc_sid=985c63&efg=eyJ2ZW5jb2RlX3RhZyI6Im9lcF9zZCJ9&_nc_ohc=6jOBcz0S1doAX9vL-aW&_nc_ht=scontent.ffor1-3.fna&oh=7f274bd5277033e23f447c28c8bdc30e&oe=5FAEB3A0', 'video_thumbnail': None, 'video_id': '765751257540024', 'likes': 2168, 'comments': 3785, 'shares': 117, 'post_url': 'https://facebook.com/watch?v=765751257540024', 'link': None, 'user_id': '289579904475528', 'images': []}\n"
     ]
    }
   ],
   "source": [
    "for post in get_posts('pKamiKat', pages=3):\n",
    "    print(post)"
   ]
  },
  {
   "cell_type": "code",
   "execution_count": 16,
   "metadata": {},
   "outputs": [
    {
     "name": "stdout",
     "output_type": "stream",
     "text": [
      "Understanding this concept will help the world make the most of its efforts and funding as we work together to avoid a climate disaster.\n",
      "\n",
      "GATESNOTES.COM\n",
      "Introducing the Green Premiums\n",
      "GATESFOUNDATION.ORG\n",
      "We can end COVID-19. Together.\n",
      "\n",
      "Gates Foundation\n",
      "September 15 at 5:30 AM ·\n",
      "\n",
      "What the world does in the next few months is going to make a big difference. Read our 2020 Goalkeepers Report to learn what it will take to end the pandemic.\n",
      "Gates Foundation\n",
      "September 15 at 5:30 AM ·\n",
      "\n",
      "What the world does in the next few months is going to make a big difference. Read our 2020 Goalkeepers Report to learn what it will take to end the pandemic.\n"
     ]
    }
   ],
   "source": [
    "for post in get_posts('BillGates', pages=1):\n",
    "    print(post['text'])"
   ]
  },
  {
   "cell_type": "code",
   "execution_count": 17,
   "metadata": {},
   "outputs": [
    {
     "name": "stdout",
     "output_type": "stream",
     "text": [
      "Refleti sobre meu futuro e queria encontrar paz olhando no meu passado.\n",
      "Todos os times que passei eu tive glória, e guardo no meu coração cada uma das torcidas gritando pelo meu nome... Nem todas.\n",
      "\n",
      "Eu precisava tomar uma decisão sobre o futuro, e talvez seja voltando ao passado.\n",
      "Quando entrei no Flamengo lembro que a unica coisa que passava na minha cabeça era que eu estava realizando um sonho que eu nunca tive nem audácia de sonhar.\n",
      "\n",
      "Virei Flamenguista por causa do meu avô, o mesmo que me deu meu primeiro computador e graças a ele consegui trilhar toda minha história até o dia de hoje.\n",
      "\n",
      "Quem é meu cria desde muito cedo já conhece essa história, estavam presentes no dia que contei que ele perdeu a luta contra o câncer. Minha vitória de 2015 foi dedicada a ele, mas sinceramente todas as vitórias da minha vida sempre foram. Ele foi a pessoa mais importante da minha vida, então ser flamenguista sempre significou algo muito forte pra mim.\n",
      "\n",
      "O projeto do Flamengo chegou até mim sem pé nem cabeça, e construímos juntos o que o time se tornou hoje.\n",
      "Eu fui o primeiro jogador de elite que largou um time do CBLOL, e encarou dar 50 passos pra trás, indo pro Circuito Desafiante por escolha própria. Naquela época Circuito Desafiante era extremamente desrespeitado, ninguém nem acompanhava, então todos os meus fãs achavam que eu estava louco e dando o maior tiro no pé da minha carreira.\n",
      "\n",
      "Eu não errei.\n",
      "\n",
      "Chegamos na final do Circuito Desafiante, entramos no CBLOL direto pra final, e tivemos mais duas finais seguidas, tendo na ultima nos tornado Campeões Brasileiros.\n",
      "\n",
      "Foi a primeira vez na história do nosso cenário que vimos uma torcida organizada nas arquibancadas, tremendo todas as estruturas, e cantando com uma só voz.\n",
      "\n",
      "Os boatos eram reais, tinha gente querendo desfazer o nosso time, e era um sentimento horrível estar treinando pra uma semifinal tão importante, pra uma final gigantesca, sabendo que já tinham intenções pro nosso futuro que não dependiam de nada do que fizéssemos.\n",
      "\n",
      "Eu nunca tive tanto foco em toda minha vida quanto pros treinamentos dessa ultima etapa, eu não sabia qual seria o fim disso tudo, mas eu me recusava a aceitar a ideia de sair do Flamengo sem honrar a nação, sem honrar os meus fãs, sem honrar a camisa do time que eu carregava no peito.\n",
      "Eu foquei tanto, eu treinei tanto, eu me esforcei tanto que um dia me toquei que eu não sabia mais o que estava acontecendo na minha própria casa. Um dia cheguei mais cedo do treino e encontrei minha mulher chorando, e mesmo morando na mesma casa percebi que não via ela fazia tempo. Ela estava mais magra, sem brilho nenhum, ela estava passando por algo que não queria que eu soubesse, e eu estava ocupado demais pra descobrir o que era.\n",
      "Só quando fomos eliminados do mundial que ela finalmente me contou que estava lutando contra a depressão, e que ela não conseguia mais passar por aquilo sozinha.\n",
      "\n",
      "Nação, eu dei tudo o que eu podia por vocês. Eu realmente lutei nesses últimos dois anos pra retribuir toda alegria e amor que vocês me deram.\n",
      "\n",
      "Estão tendo muitas mudanças na administração do Flamengo no esports, e eu nem sei mais se posso chamar de Flamengo ou se é só um time carregando o nome. Mas eu preciso ser fiel a vocês e dizer que não confio no novo projeto.\n",
      "\n",
      "Meu contrato encerrou ontem e eu decidi que não irei renovar.\n",
      "Eu estou aberto pra receber propostas de outros times, pra conversar, pra saber os caminhos que posso seguir, mas pra ser sincero, talvez eu decida não seguir mais nenhum...\n",
      "\n",
      "Eu precisava abrir meu coração pra vocês e contar tudo o que esta acontecendo aqui na minha cabeça.\n",
      "\n",
      "Nação, foi uma honra lutar por vocês.\n",
      "Obrigado por tudo.\n"
     ]
    }
   ],
   "source": [
    "for post in get_posts('felipebrTT', pages=1):\n",
    "    print(post['text'])"
   ]
  },
  {
   "cell_type": "code",
   "execution_count": 18,
   "metadata": {},
   "outputs": [
    {
     "name": "stdout",
     "output_type": "stream",
     "text": [
      "estamos online até eu desligar ou a vivo nos trollar hehe\n",
      "continuando na vibe tryhard e dando dicas\n",
      "\n",
      "LINK DA LIVE NOS COMENTÁRIOS!!!\n",
      "live do rush da md10 full tryhard\n",
      "\n",
      "LINK NOS COMENTÁRIOS!!!\n"
     ]
    }
   ],
   "source": [
    "for post in get_posts('mylonzete', pages=1):\n",
    "    print(post['text'])"
   ]
  }
 ],
 "metadata": {
  "kernelspec": {
   "display_name": "Python 3",
   "language": "python",
   "name": "python3"
  },
  "language_info": {
   "codemirror_mode": {
    "name": "ipython",
    "version": 3
   },
   "file_extension": ".py",
   "mimetype": "text/x-python",
   "name": "python",
   "nbconvert_exporter": "python",
   "pygments_lexer": "ipython3",
   "version": "3.7.3"
  }
 },
 "nbformat": 4,
 "nbformat_minor": 4
}
